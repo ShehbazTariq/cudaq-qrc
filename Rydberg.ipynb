{
 "cells": [
  {
   "cell_type": "code",
   "execution_count": 1,
   "metadata": {},
   "outputs": [],
   "source": [
    "\n",
    "import matplotlib.pyplot as plt\n",
    "import pandas as pd\n",
    "from sklearn.decomposition import PCA\n",
    "from sklearn.ensemble import RandomForestRegressor, GradientBoostingClassifier\n",
    "from sklearn.metrics import mean_squared_error\n",
    "import os\n",
    "from sklearn.preprocessing import MinMaxScaler\n",
    "from sklearn.ensemble import RandomForestRegressor\n",
    "import random\n",
    "from dynamics import *"
   ]
  },
  {
   "cell_type": "code",
   "execution_count": 2,
   "metadata": {},
   "outputs": [],
   "source": [
    "# Precompute embeddings for all readouts\n",
    "def precompute_embeddings():\n",
    "    readouts = generate_readouts(nsites)\n",
    "    simulator = RydbergSimulator(\n",
    "        nsites=nsites,\n",
    "        atoms=atoms,\n",
    "        readouts=readouts,\n",
    "        omega=omega,\n",
    "        t_start=t_start,\n",
    "        t_end=t_end,\n",
    "        t_step=t_step,\n",
    "        t_rate=t_rate,\n",
    "        alpha=alpha,\n",
    "        V_matrix=V_matrix,\n",
    "        id=0,\n",
    "        use_wavelet=False\n",
    "    )\n",
    "    train_embeddings = simulator.apply_layer(train_datapoints_normalized)\n",
    "    test_embeddings = simulator.apply_layer(test_datapoints_normalized)\n",
    "\n",
    "    return readouts, train_embeddings, test_embeddings"
   ]
  },
  {
   "cell_type": "code",
   "execution_count": null,
   "metadata": {},
   "outputs": [],
   "source": []
  },
  {
   "cell_type": "code",
   "execution_count": null,
   "metadata": {},
   "outputs": [],
   "source": []
  },
  {
   "cell_type": "code",
   "execution_count": null,
   "metadata": {},
   "outputs": [],
   "source": []
  },
  {
   "cell_type": "code",
   "execution_count": null,
   "metadata": {},
   "outputs": [
    {
     "name": "stderr",
     "output_type": "stream",
     "text": [
      "  0%|          | 0/1000 [00:00<?, ?it/s]"
     ]
    },
    {
     "name": "stderr",
     "output_type": "stream",
     "text": [
      "100%|██████████| 1000/1000 [06:02<00:00,  2.76it/s]\n",
      "100%|██████████| 100/100 [00:39<00:00,  2.52it/s]\n"
     ]
    },
    {
     "name": "stdout",
     "output_type": "stream",
     "text": [
      "Saved embeddings for nsites=4\n"
     ]
    },
    {
     "name": "stderr",
     "output_type": "stream",
     "text": [
      "100%|██████████| 1000/1000 [07:54<00:00,  2.11it/s]\n",
      "100%|██████████| 100/100 [00:46<00:00,  2.16it/s]\n"
     ]
    },
    {
     "name": "stdout",
     "output_type": "stream",
     "text": [
      "Saved embeddings for nsites=5\n"
     ]
    },
    {
     "name": "stderr",
     "output_type": "stream",
     "text": [
      "100%|██████████| 1000/1000 [10:33<00:00,  1.58it/s]\n",
      "100%|██████████| 100/100 [01:01<00:00,  1.63it/s]\n"
     ]
    },
    {
     "name": "stdout",
     "output_type": "stream",
     "text": [
      "Saved embeddings for nsites=6\n"
     ]
    },
    {
     "name": "stderr",
     "output_type": "stream",
     "text": [
      " 20%|██        | 205/1000 [02:41<11:01,  1.20it/s]"
     ]
    }
   ],
   "source": [
    "DIR_RESULTS = \"/DISK/[Team]QAI/Shehbaz/WAIR-D_QRC/results/NLOS/\"\n",
    "os.makedirs(DIR_RESULTS, exist_ok=True)\n",
    "DIR_RESULTS_META = \"/DISK/[Team]QAI/Shehbaz/WAIR-D_QRC/results/meta/NLOS/\"\n",
    "os.makedirs(DIR_RESULTS_META, exist_ok=True)#now get the embeddings again with the selected readouts\n",
    "\n",
    "\n",
    "for nsites in range(2, 11):\n",
    "    #if the file already exists, skip\n",
    "    if os.path.exists(f\"{DIR_RESULTS_META}/nsites_{nsites}_train_embeddings.npy\"):\n",
    "        continue\n",
    "    d = 10 # 10 micron spacing\n",
    "    atoms = np.linspace(0, (nsites - 1) * d, nsites)  # Put atoms in a chain with 10 micron spacing\n",
    "\n",
    "    # Hyperparameters for testing\n",
    "    omega = 2 * np.pi\n",
    "    t_start = 0.0\n",
    "    t_end = 3.0\n",
    "    t_step = 0.5\n",
    "    t_rate = 1.0\n",
    "    alpha = np.random.rand(nsites)  # Random site modulation factors between 0 and 1\n",
    "    V_matrix = np.random.rand(nsites, nsites)\n",
    "    V_matrix = (V_matrix + V_matrix.T) / 2  # Make the interaction matrix symmetric\n",
    "    np.fill_diagonal(V_matrix, 0.1)  # Set diagonal elements to 0.1\n",
    "    train_datapoints = train_features\n",
    "    test_datapoints = test_features\n",
    "    #use min-max normalization\n",
    "    scaler = MinMaxScaler(feature_range=(-1, 1))\n",
    "    train_datapoints_normalized = scaler.fit_transform(train_datapoints)\n",
    "    test_datapoints_normalized = scaler.transform(test_datapoints)\n",
    "    readouts, train_embeddings, test_embeddings = precompute_embeddings()\n",
    "    #save as embeddings npy\n",
    "    np.save(f\"{DIR_RESULTS_META}/nsites_{nsites}_train_embeddings.npy\", train_embeddings)\n",
    "    np.save(f\"{DIR_RESULTS_META}/nsites_{nsites}_test_embeddings.npy\", test_embeddings)\n",
    "    print(f\"Saved embeddings for nsites={nsites}\")"
   ]
  },
  {
   "cell_type": "code",
   "execution_count": null,
   "metadata": {},
   "outputs": [],
   "source": []
  }
 ],
 "metadata": {
  "kernelspec": {
   "display_name": "Shehbaz",
   "language": "python",
   "name": "python3"
  },
  "language_info": {
   "codemirror_mode": {
    "name": "ipython",
    "version": 3
   },
   "file_extension": ".py",
   "mimetype": "text/x-python",
   "name": "python",
   "nbconvert_exporter": "python",
   "pygments_lexer": "ipython3",
   "version": "3.12.3"
  }
 },
 "nbformat": 4,
 "nbformat_minor": 2
}
