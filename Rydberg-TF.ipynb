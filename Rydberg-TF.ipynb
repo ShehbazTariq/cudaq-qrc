{
 "cells": [
  {
   "cell_type": "code",
   "execution_count": 136,
   "metadata": {},
   "outputs": [
    {
     "name": "stdout",
     "output_type": "stream",
     "text": [
      "The autoreload extension is already loaded. To reload it, use:\n",
      "  %reload_ext autoreload\n",
      "Enabling notebook extension jupyter-js-widgets/extension...\n",
      "      - Validating: \u001b[32mOK\u001b[0m\n"
     ]
    }
   ],
   "source": [
    "import os\n",
    "%load_ext autoreload\n",
    "%autoreload 2\n",
    "os.chdir('/home/users/stariq/Codes/cudaq-qrc')\n",
    "!jupyter nbextension enable --py widgetsnbextension"
   ]
  },
  {
   "cell_type": "code",
   "execution_count": 137,
   "metadata": {},
   "outputs": [],
   "source": [
    "import matplotlib.pyplot as plt\n",
    "import pandas as pd\n",
    "from sklearn.ensemble import RandomForestRegressor, GradientBoostingClassifier\n",
    "from sklearn.metrics import mean_squared_error\n",
    "from sklearn.datasets import make_regression\n",
    "from sklearn.model_selection import train_test_split\n",
    "import os\n",
    "from sklearn.preprocessing import MinMaxScaler\n",
    "from dynamics import *\n",
    "import re\n",
    "import math\n",
    "from optread import *\n",
    "from scipy.stats import binom\n",
    "#set latex font for plots\n",
    "plt.rc('text', usetex=True)\n",
    "plt.rc('font', family='serif')"
   ]
  },
  {
   "cell_type": "code",
   "execution_count": 138,
   "metadata": {},
   "outputs": [],
   "source": [
    "# ========= utilities for fair-size baselines =================================\n",
    "def set_seed(seed):\n",
    "    import random, numpy as np, torch\n",
    "    random.seed(seed); np.random.seed(seed)\n",
    "    torch.manual_seed(seed); torch.cuda.manual_seed_all(seed)\n",
    "\n",
    "def count_parameters(model):\n",
    "    return sum(p.numel() for p in model.parameters() if p.requires_grad)\n",
    "\n",
    "def pick_emb_dim(budget, n_feat, nhead=4, nlayers=2, ff_mult=4, tol=.10):\n",
    "    \"\"\"\n",
    "    Return the largest emb_dim (multiple of nhead) whose 2-layer Transformer\n",
    "    fits within `budget·(1+tol)` params.\n",
    "    \"\"\"\n",
    "    def n_params(d):\n",
    "        mha = 3*d*d*nlayers            # Q,K,V\n",
    "        out = d*d   *nlayers           # W_O\n",
    "        ff  = 2*d*ff_mult*d*nlayers    # W1,W2\n",
    "        ln  = 2*d*nlayers              # layer norms\n",
    "        bias= d*(ff_mult*2*nlayers + nlayers + 1)  # FF + attn + regressor\n",
    "        pos = d*(n_feat+1)             # pos + CLS\n",
    "        return mha+out+ff+ln+bias+pos\n",
    "    d = max(nhead, nhead*((budget//n_feat)//nhead))\n",
    "    while n_params(d) > budget*(1+tol):\n",
    "        d -= nhead\n",
    "        if d < nhead: raise ValueError(\"budget too small\")\n",
    "    return d\n"
   ]
  },
  {
   "cell_type": "code",
   "execution_count": null,
   "metadata": {},
   "outputs": [],
   "source": []
  },
  {
   "cell_type": "code",
   "execution_count": 139,
   "metadata": {},
   "outputs": [],
   "source": [
    "PARAM_BUDGET = 10_000        # ← tweak if you like"
   ]
  },
  {
   "cell_type": "code",
   "execution_count": 140,
   "metadata": {},
   "outputs": [],
   "source": [
    "# # Generate regression dataset\n",
    "# X, y = make_regression(n_samples=500, n_features=8, noise=0.1, random_state=402)\n",
    "# scaler_X = MinMaxScaler(feature_range=(0, 1))\n",
    "# X_normalized = scaler_X.fit_transform(X)\n",
    "# y = y.reshape(-1, 1)  # Reshape y to a 2D array for normalization\n",
    "# scaler_y = MinMaxScaler(feature_range=(0, 1))\n",
    "# y_normalized = scaler_y.fit_transform(y).flatten() \n",
    "\n",
    "# # First, split into 60% train and 40% temp (test + val)\n",
    "# X_train, X_temp, y_train, y_temp = train_test_split(\n",
    "#     X_normalized, y_normalized, test_size=0.4, shuffle=True, random_state=402\n",
    "# )\n",
    "# # Next, split the remaining 40% equally into test (20%) and validation (20%)\n",
    "# X_test, X_val, y_test, y_val = train_test_split(\n",
    "#     X_temp, y_temp, test_size=0.5, shuffle=True, random_state=402\n",
    "# )"
   ]
  },
  {
   "cell_type": "code",
   "execution_count": 141,
   "metadata": {},
   "outputs": [
    {
     "name": "stdout",
     "output_type": "stream",
     "text": [
      "Shapes: X_train (597, 4) X_val (199, 4) X_test (200, 4)\n"
     ]
    }
   ],
   "source": [
    "def generate_mackey_glass(N, tau=17, beta=0.2, gamma=0.1, n=10, dt=1.0, x0=1.2):\n",
    "    \"\"\"\n",
    "    Discrete‐time Mackey–Glass generator:\n",
    "      x'(t) = β x(t−τ) / (1 + x(t−τ)^n) − γ x(t)\n",
    "    Euler‐integrated with step dt.\n",
    "    Returns array of length N+tau (so you have history).\n",
    "    \"\"\"\n",
    "    # initialize history with x0\n",
    "    history = np.full(tau, x0, dtype=np.float64)\n",
    "    series = []\n",
    "    for _ in range(N):\n",
    "        x_tau = history[-tau]\n",
    "        x     = history[-1]\n",
    "        x_dot = beta * x_tau / (1 + x_tau**n) - gamma * x\n",
    "        x_new = x + x_dot * dt\n",
    "        history = np.append(history, x_new)\n",
    "        series.append(x_new)\n",
    "    return np.array(series)\n",
    "\n",
    "# 1) Generate a long MG series\n",
    "total_steps = 1000\n",
    "raw = generate_mackey_glass(total_steps, tau=17, beta=0.2, gamma=0.1, n=10, dt=1.0)\n",
    "\n",
    "# 2) Build supervised X,y with window size 4\n",
    "window = 4\n",
    "X = np.array([ raw[i : i+window] for i in range(len(raw) - window) ])\n",
    "y = raw[window:]\n",
    "\n",
    "# 3) Normalize to [0,1]\n",
    "scaler_X = MinMaxScaler(feature_range=(0,1))\n",
    "X_norm   = scaler_X.fit_transform(X)\n",
    "scaler_y = MinMaxScaler(feature_range=(0,1))\n",
    "y_norm   = scaler_y.fit_transform(y.reshape(-1,1)).flatten()\n",
    "\n",
    "# 4) Split 60% train / 40% temp → then 20/20\n",
    "X_train, X_temp, y_train, y_temp = train_test_split(\n",
    "    X_norm, y_norm,\n",
    "    train_size=0.6,\n",
    "    shuffle=False  # preserve time order for time‐series\n",
    ")\n",
    "X_val, X_test, y_val, y_test = train_test_split(\n",
    "    X_temp, y_temp,\n",
    "    test_size=0.5,\n",
    "    shuffle=False\n",
    ")\n",
    "\n",
    "print(\"Shapes:\",\n",
    "      \"X_train\", X_train.shape,\n",
    "      \"X_val\",   X_val.shape,\n",
    "      \"X_test\",  X_test.shape)\n",
    "# e.g. X_train (1175,8), X_val (392,8), X_test (392,8)"
   ]
  },
  {
   "cell_type": "code",
   "execution_count": null,
   "metadata": {},
   "outputs": [],
   "source": []
  },
  {
   "cell_type": "code",
   "execution_count": 142,
   "metadata": {},
   "outputs": [],
   "source": [
    "import torch\n",
    "import torch.nn as nn\n",
    "from torch.utils.data import DataLoader, TensorDataset\n",
    "import os\n",
    "os.environ[\"CUDA_VISIBLE_DEVICES\"] = \"0,1,2,3\"  # Use GPUs 0, 1, 2, and 3\n",
    "#from dynamics import embeddings_multi_gpu_auto as emb_mgpu\n",
    "\n",
    "# Convert to torch tensors\n",
    "X_train_t = torch.tensor(X_train, dtype=torch.float32)\n",
    "X_test_t  = torch.tensor(X_test,  dtype=torch.float32)\n",
    "y_train_t = torch.tensor(y_train, dtype=torch.float32)\n",
    "y_test_t  = torch.tensor(y_test,  dtype=torch.float32)\n"
   ]
  },
  {
   "cell_type": "code",
   "execution_count": 143,
   "metadata": {},
   "outputs": [
    {
     "name": "stdout",
     "output_type": "stream",
     "text": [
      "Number of GPUs available: 4\n"
     ]
    }
   ],
   "source": [
    "#gpu count\n",
    "gpu_count = torch.cuda.device_count()\n",
    "print(\"Number of GPUs available:\", gpu_count)"
   ]
  },
  {
   "cell_type": "code",
   "execution_count": 144,
   "metadata": {},
   "outputs": [],
   "source": [
    "# --------------------------------------------------------------------- #\n",
    "# Random-Fourier baseline in “dim-tunable” form                        #\n",
    "# --------------------------------------------------------------------- #\n",
    "class RandomFourierLinear(nn.Module):\n",
    "    \"\"\"\n",
    "    φ(x) = √(2/D) cos(x·W + b)  →  linear → scalar\n",
    "    Fixed W,b  (buffers, NOT trainable); only final linear is trained.\n",
    "    \"\"\"\n",
    "    def __init__(self, in_dim: int, out_dim: int):\n",
    "        super().__init__()\n",
    "        self.out_dim = out_dim\n",
    "        # W and b are **buffers** (frozen random features)\n",
    "        self.register_buffer(\"W\", torch.randn(in_dim, out_dim) * 0.1)\n",
    "        self.register_buffer(\"b\", torch.randn(out_dim) * 2 * math.pi)\n",
    "        # Only these two tensors are trainable\n",
    "        self.linear = nn.Linear(out_dim, 1)         # weight + bias\n",
    "\n",
    "    def forward(self, x):                           # x : (B, F=in_dim)\n",
    "        phi = torch.cos(x @ self.W + self.b) * math.sqrt(2 / self.out_dim)\n",
    "        return self.linear(phi).squeeze(-1)\n",
    "\n",
    "# --------------------------------------------------------------------- #\n",
    "# Constructor that _search_dim_multiple_ can call                       #\n",
    "# --------------------------------------------------------------------- #\n",
    "def make_rff(dim):     # dim = out_dim = number of random features\n",
    "    return RandomFourierLinear(in_dim=X_train_t.shape[1],\n",
    "                               out_dim=dim).to(device)\n",
    "    \n",
    "# --------------------------------------------------------------------- #\n",
    "# Trainable-parameter count helper (buffers are ignored automatically)  #\n",
    "# --------------------------------------------------------------------- #\n",
    "def n_params(model):\n",
    "    return sum(p.numel() for p in model.parameters() if p.requires_grad)"
   ]
  },
  {
   "cell_type": "code",
   "execution_count": 145,
   "metadata": {},
   "outputs": [],
   "source": [
    "from torch.optim.lr_scheduler import CosineAnnealingLR\n",
    "# ——————— Improved MGTransformer ———————\n",
    "class MGTransformer(nn.Module):\n",
    "    def __init__(self,\n",
    "                 n_features,\n",
    "                 emb_dim=64,\n",
    "                 nhead=4,\n",
    "                 nhid=512,\n",
    "                 nlayers=4,\n",
    "                 dropout=0.1):\n",
    "        super().__init__()\n",
    "        # 1) scalar→emb\n",
    "        self.feat_proj = nn.Linear(1, emb_dim)\n",
    "        # 2) [CLS] token + pos emb\n",
    "        self.cls_token = nn.Parameter(torch.randn(1, 1, emb_dim))\n",
    "        self.pos_emb   = nn.Parameter(torch.randn(1, n_features+1, emb_dim))\n",
    "        # 3) Transformer Encoder\n",
    "        encoder_layer = nn.TransformerEncoderLayer(\n",
    "            d_model=emb_dim,\n",
    "            nhead=nhead,\n",
    "            dim_feedforward=nhid,\n",
    "            dropout=dropout,\n",
    "            batch_first=True\n",
    "        )\n",
    "        self.transformer = nn.TransformerEncoder(encoder_layer, nlayers)\n",
    "        # 4) final regressor\n",
    "        self.regressor   = nn.Linear(emb_dim, 1)\n",
    "\n",
    "    def forward(self, x):\n",
    "        # x: (B, n_features)\n",
    "        B, F = x.shape\n",
    "        # 1) project each scalar\n",
    "        h = self.feat_proj(x.unsqueeze(-1))       # (B, F, emb_dim)\n",
    "        # 2) prepend CLS\n",
    "        cls = self.cls_token.expand(B, -1, -1)    # (B, 1, emb_dim)\n",
    "        h   = torch.cat([cls, h], dim=1)          # (B, F+1, emb_dim)\n",
    "        # 3) add positional embeddings\n",
    "        h  += self.pos_emb                         # broadcast (1, F+1, emb_dim)\n",
    "        # 4) transformer\n",
    "        h   = self.transformer(h)                 # (B, F+1, emb_dim)\n",
    "        # 5) take CLS slot and regress\n",
    "        out = h[:, 0]                             # (B, emb_dim)\n",
    "        return self.regressor(out).squeeze(-1)    # (B,)"
   ]
  },
  {
   "cell_type": "code",
   "execution_count": 146,
   "metadata": {},
   "outputs": [
    {
     "name": "stdout",
     "output_type": "stream",
     "text": [
      "Transformer params : 10301\n",
      "RFF params         : 81\n"
     ]
    }
   ],
   "source": [
    "set_seed(0)\n",
    "device = torch.device(\"cuda:0\" if torch.cuda.is_available() else \"cpu\")\n",
    "\n",
    "# -------- choose emb_dim so all models ≈ PARAM_BUDGET -----------------------\n",
    "EMB_DIM = pick_emb_dim(PARAM_BUDGET, n_feat=X_train_t.shape[1], nhead=4)\n",
    "RFF_DIM = EMB_DIM * X_train_t.shape[1]            # ~same trainables\n",
    "\n",
    "# -------- (1) Transformer baseline -----------------------------------------\n",
    "model_tf = MGTransformer(\n",
    "    n_features = X_train_t.shape[1],\n",
    "    emb_dim    = EMB_DIM,\n",
    "    nhead      = 4,\n",
    "    nhid       = 4*EMB_DIM,\n",
    "    nlayers    = 2,\n",
    "    dropout    = 0.1\n",
    ").to(device)\n",
    "print(\"Transformer params :\", count_parameters(model_tf))\n",
    "\n",
    "# -------- (2) Random Fourier baseline --------------------------------------\n",
    "model_rff = RandomFourierLinear(\n",
    "    in_dim  = X_train_t.shape[1],\n",
    "    out_dim = RFF_DIM\n",
    ").to(device)\n",
    "print(\"RFF params         :\", count_parameters(model_rff))\n"
   ]
  },
  {
   "cell_type": "code",
   "execution_count": 147,
   "metadata": {},
   "outputs": [],
   "source": [
    "from tqdm.auto import tqdm\n",
    "import torch.nn.functional as F\n",
    "\n",
    "# ──────────────────────────────────────────────────────────────────────\n",
    "def train(model, loader_tr, *,\n",
    "          epochs      = 500,\n",
    "          lr          = 1e-3,\n",
    "          weight_decay= 1e-4,\n",
    "          patience    = 30,\n",
    "          desc        = \"train\",\n",
    "          early_stop  = True        # ← NEW: set False to run full epochs\n",
    "          ):\n",
    "    \"\"\"\n",
    "    If early_stop=True  (default) → stop after `patience` epochs without\n",
    "    improvement and restore the best weights.\n",
    "\n",
    "    If early_stop=False → always run the full `epochs`, but still restore the\n",
    "    best checkpoint at the very end.\n",
    "\n",
    "    Returns\n",
    "    -------\n",
    "    losses : list[float]\n",
    "        epoch-wise training MSE (length == epochs if early_stop==False,\n",
    "        otherwise length == actual number of epochs executed)\n",
    "    \"\"\"\n",
    "    opt   = torch.optim.Adam(model.parameters(), lr=lr,\n",
    "                             weight_decay=weight_decay)\n",
    "    best_state, best_loss, wait = None, float(\"inf\"), 0\n",
    "    losses = []\n",
    "\n",
    "    bar = tqdm(range(1, epochs+1), desc=f\"{desc}: loss=∞\", leave=False)\n",
    "    for ep in bar:\n",
    "        model.train()\n",
    "        running = 0.0\n",
    "\n",
    "        for batch in loader_tr:                       # unpack as before\n",
    "            if len(batch) == 3:\n",
    "                xb, res, yb = batch;  res = res.to(device)\n",
    "            else:\n",
    "                xb, yb = batch;       res = None\n",
    "            xb, yb = xb.to(device), yb.to(device)\n",
    "\n",
    "            pred  = model(xb, res) if res is not None else model(xb)\n",
    "            loss  = F.mse_loss(pred, yb)\n",
    "\n",
    "            opt.zero_grad(); loss.backward(); opt.step()\n",
    "            running += loss.item() * xb.size(0)\n",
    "\n",
    "        epoch_loss = running / len(loader_tr.dataset)\n",
    "        losses.append(epoch_loss)\n",
    "        bar.set_description(f\"{desc}: loss={epoch_loss:.4e}\")\n",
    "\n",
    "        # keep best checkpoint\n",
    "        if epoch_loss < best_loss:\n",
    "            best_loss, best_state = epoch_loss, model.state_dict().copy()\n",
    "            wait = 0\n",
    "        else:\n",
    "            wait += 1\n",
    "\n",
    "        # break if we want early stopping\n",
    "        if early_stop and wait >= patience:\n",
    "            break\n",
    "\n",
    "    bar.close()\n",
    "    # always restore the best model before returning\n",
    "    model.load_state_dict(best_state)\n",
    "    return losses\n",
    "# ──────────────────────────────────────────────────────────────────────\n",
    "\n",
    "# ──────────────────────────────────────────────────────────────────────\n",
    "def predict(model, loader):\n",
    "    \"\"\"return torch.cat(preds), torch.cat(trues)  on *loader*\"\"\"\n",
    "    model.eval(); preds, trues = [], []\n",
    "    with torch.no_grad():\n",
    "        for batch in loader:\n",
    "            if len(batch) == 3:\n",
    "                xb, res, yb = batch; res = res.to(device)\n",
    "            else:\n",
    "                xb, yb = batch;     res = None\n",
    "            xb = xb.to(device)\n",
    "            p  = model(xb, res) if res is not None else model(xb)\n",
    "            preds.append(p.cpu()); trues.append(yb)\n",
    "    return torch.cat(preds), torch.cat(trues)\n",
    "# ──────────────────────────────────────────────────────────────────────"
   ]
  },
  {
   "cell_type": "code",
   "execution_count": 148,
   "metadata": {},
   "outputs": [],
   "source": [
    "# ——————— Prepare DataLoaders ———————\n",
    "train_ds = TensorDataset(X_train_t, y_train_t)\n",
    "test_ds  = TensorDataset(X_test_t,  y_test_t)\n",
    "loader_tr = DataLoader(train_ds, batch_size=32, shuffle=True)\n",
    "loader_te = DataLoader(test_ds,  batch_size=32, shuffle=False)"
   ]
  },
  {
   "cell_type": "code",
   "execution_count": 149,
   "metadata": {},
   "outputs": [],
   "source": [
    "######### Vaniala simulator ##########  \n",
    "# train_embeddings = simulator.apply_layer(train_datapoints_normalized)\n",
    "# test_embeddings = simulator.apply_layer(test_datapoints_normalized)\n",
    "# train_embeddings=train_embeddings/(2**nsites) #normalize embeddings\n",
    "# #val_embeddings=val_embeddings/(2**nsites) #normalize embeddings\n",
    "# test_embeddings=test_embeddings/(2**nsites) #normalize embeddings"
   ]
  },
  {
   "cell_type": "code",
   "execution_count": null,
   "metadata": {},
   "outputs": [
    {
     "name": "stdout",
     "output_type": "stream",
     "text": [
      "✓ n=2: loaded cached embeddings\n",
      "✓ n=3: loaded cached embeddings\n",
      "✓ n=4: loaded cached embeddings\n",
      "✓ n=5: loaded cached embeddings\n",
      "✓ n=6: loaded cached embeddings\n",
      "✓ n=7: loaded cached embeddings\n",
      "✓ n=8: loaded cached embeddings\n",
      "✓ n=9: loaded cached embeddings\n",
      "Using GPUs [0, 1, 2, 3] – 597 samples remaining\n",
      "[PID 3529676] ▶  0: <unknown GPU>\n"
     ]
    },
    {
     "name": "stderr",
     "output_type": "stream",
     "text": [
      "GPU0:   0%|          | 0/15 [00:00<?, ?batch/s]\n",
      "\n",
      "\n",
      "GPU3:   0%|          | 0/15 [00:00<?, ?batch/s]\u001b[A\u001b[A\u001b[A\n",
      "GPU1:   0%|          | 0/15 [00:00<?, ?batch/s]\u001b[A\n",
      "\n",
      "GPU2:   0%|          | 0/15 [00:00<?, ?batch/s]\u001b[A\u001b[A"
     ]
    }
   ],
   "source": [
    "all_train_emb, all_test_emb = {}, {}\n",
    "\n",
    "for n in range(2, 11):          # 2 … 10 qubits\n",
    "    tr_emb, te_emb = get_embeddings_for_nsites(\n",
    "        nsites      = n,\n",
    "        X_train     = X_train,     # your current arrays\n",
    "        X_test      = X_test,\n",
    "        dataset_tag = \"Mackey-Glass\"   # or \"MackeyGlass\", etc.\n",
    "    )\n",
    "    all_train_emb[n] = tr_emb\n",
    "    all_test_emb[n]  = te_emb\n"
   ]
  },
  {
   "cell_type": "code",
   "execution_count": 44,
   "metadata": {},
   "outputs": [
    {
     "name": "stdout",
     "output_type": "stream",
     "text": [
      "[GPU 0] dummy CUDA op succeeded on 0\n"
     ]
    }
   ],
   "source": [
    "import torch\n",
    "# this will allocate a small tensor and force a kernel launch\n",
    "a = torch.randn(1024, device='cuda:2')\n",
    "b = a * 2\n",
    "gpu_idx = torch.cuda.current_device()\n",
    "print(f\"[GPU {gpu_idx}] dummy CUDA op succeeded on {torch.cuda.current_device()}\", flush=True)\n"
   ]
  },
  {
   "cell_type": "code",
   "execution_count": 45,
   "metadata": {},
   "outputs": [
    {
     "name": "stdout",
     "output_type": "stream",
     "text": [
      "0\n",
      "Tesla V100-SXM2-32GB\n"
     ]
    }
   ],
   "source": [
    "a = torch.randn(1024, device='cuda')    # or device='cuda:0'\n",
    "b = a * 2\n",
    "print(torch.cuda.current_device())       # will print 0\n",
    "print(torch.cuda.get_device_name(0))     # will print “Tesla V100” (your global GPU 2)\n"
   ]
  },
  {
   "cell_type": "code",
   "execution_count": 40,
   "metadata": {},
   "outputs": [
    {
     "data": {
      "text/plain": [
       "['0']"
      ]
     },
     "execution_count": 40,
     "metadata": {},
     "output_type": "execute_result"
    }
   ],
   "source": [
    "gpu_list"
   ]
  },
  {
   "cell_type": "code",
   "execution_count": 236,
   "metadata": {},
   "outputs": [],
   "source": [
    "# ##### Single-GPU #####\n",
    "\n",
    "\n",
    "# train_embeddings = embeddings_with_cache(\n",
    "#     simulator,\n",
    "#     train_datapoints_normalized,\n",
    "#     cache_dir=\"cache\",\n",
    "#     final_dir=\"dataset/embeddings\",\n",
    "#     config_name=cfg_t,\n",
    "#     batch_size=10,            # optional\n",
    "# )\n",
    "# test_embeddings  = embeddings_with_cache(\n",
    "#     simulator,\n",
    "#     test_datapoints_normalized,\n",
    "#     cache_dir=\"cache\",\n",
    "#     final_dir=\"dataset/embeddings\",\n",
    "#     config_name=cfg_test,\n",
    "# )\n",
    "# train_embeddings /= 2**nsites\n",
    "# test_embeddings  /= 2**nsites\n"
   ]
  },
  {
   "cell_type": "code",
   "execution_count": 233,
   "metadata": {},
   "outputs": [
    {
     "name": "stderr",
     "output_type": "stream",
     "text": [
      "  4%|▎         | 5/142 [00:34<14:33,  6.37s/it]"
     ]
    },
    {
     "name": "stdout",
     "output_type": "stream",
     "text": [
      " CTRL-C caught in cudaq runtime.\n",
      " CTRL-C caught in cudaq runtime.\n",
      " CTRL-C caught in cudaq runtime.\n",
      " CTRL-C caught in cudaq runtime.\n"
     ]
    },
    {
     "ename": "KeyboardInterrupt",
     "evalue": "",
     "output_type": "error",
     "traceback": [
      "\u001b[0;31m---------------------------------------------------------------------------\u001b[0m",
      "\u001b[0;31mKeyboardInterrupt\u001b[0m                         Traceback (most recent call last)",
      "Cell \u001b[0;32mIn[233], line 4\u001b[0m\n\u001b[1;32m      2\u001b[0m os\u001b[38;5;241m.\u001b[39menviron[\u001b[38;5;124m\"\u001b[39m\u001b[38;5;124mCUDA_VISIBLE_DEVICES\u001b[39m\u001b[38;5;124m\"\u001b[39m] \u001b[38;5;241m=\u001b[39m \u001b[38;5;124m\"\u001b[39m\u001b[38;5;124m0,1,2,3\u001b[39m\u001b[38;5;124m\"\u001b[39m  \u001b[38;5;66;03m# Use GPUs 0, 1, 2, and 3\u001b[39;00m\n\u001b[1;32m      3\u001b[0m \u001b[38;5;28;01mfrom\u001b[39;00m\u001b[38;5;250m \u001b[39m\u001b[38;5;21;01mdynamics\u001b[39;00m\u001b[38;5;250m \u001b[39m\u001b[38;5;28;01mimport\u001b[39;00m embeddings_multi_gpu \u001b[38;5;28;01mas\u001b[39;00m emb_mgpu\n\u001b[0;32m----> 4\u001b[0m train_embeddings \u001b[38;5;241m=\u001b[39m \u001b[43memb_mgpu\u001b[49m\u001b[43m(\u001b[49m\n\u001b[1;32m      5\u001b[0m \u001b[43m    \u001b[49m\u001b[43msimulator\u001b[49m\u001b[43m,\u001b[49m\n\u001b[1;32m      6\u001b[0m \u001b[43m    \u001b[49m\u001b[43mtrain_datapoints_normalized\u001b[49m\u001b[43m,\u001b[49m\n\u001b[1;32m      7\u001b[0m \u001b[43m    \u001b[49m\u001b[43mcache_dir\u001b[49m\u001b[38;5;241;43m=\u001b[39;49m\u001b[38;5;124;43m\"\u001b[39;49m\u001b[38;5;124;43mcache\u001b[39;49m\u001b[38;5;124;43m\"\u001b[39;49m\u001b[43m,\u001b[49m\n\u001b[1;32m      8\u001b[0m \u001b[43m    \u001b[49m\u001b[43mfinal_dir\u001b[49m\u001b[38;5;241;43m=\u001b[39;49m\u001b[38;5;124;43m\"\u001b[39;49m\u001b[38;5;124;43mdataset/embeddings\u001b[39;49m\u001b[38;5;124;43m\"\u001b[39;49m\u001b[43m,\u001b[49m\n\u001b[1;32m      9\u001b[0m \u001b[43m    \u001b[49m\u001b[43mconfig_name\u001b[49m\u001b[38;5;241;43m=\u001b[39;49m\u001b[43mcfg_t\u001b[49m\u001b[43m,\u001b[49m\n\u001b[1;32m     10\u001b[0m \u001b[43m    \u001b[49m\u001b[43mbatch_size\u001b[49m\u001b[38;5;241;43m=\u001b[39;49m\u001b[38;5;241;43m10\u001b[39;49m\u001b[43m,\u001b[49m\n\u001b[1;32m     11\u001b[0m \u001b[43m)\u001b[49m\n\u001b[1;32m     12\u001b[0m test_embeddings  \u001b[38;5;241m=\u001b[39m emb_mgpu(\n\u001b[1;32m     13\u001b[0m     simulator,\n\u001b[1;32m     14\u001b[0m     test_datapoints_normalized,\n\u001b[0;32m   (...)\u001b[0m\n\u001b[1;32m     18\u001b[0m     batch_size\u001b[38;5;241m=\u001b[39m\u001b[38;5;241m10\u001b[39m,\n\u001b[1;32m     19\u001b[0m )\n\u001b[1;32m     21\u001b[0m train_embeddings \u001b[38;5;241m/\u001b[39m\u001b[38;5;241m=\u001b[39m \u001b[38;5;241m2\u001b[39m\u001b[38;5;241m*\u001b[39m\u001b[38;5;241m*\u001b[39mnsites\n",
      "File \u001b[0;32m/mnt/aiongpfs/users/stariq/Codes/cudaq-qrc/dynamics.py:472\u001b[0m, in \u001b[0;36membeddings_multi_gpu\u001b[0;34m(simulator, datapoints, batch_size, cache_dir, final_dir, config_name, overwrite, show_progress)\u001b[0m\n\u001b[1;32m    467\u001b[0m     futs \u001b[38;5;241m=\u001b[39m [pool\u001b[38;5;241m.\u001b[39msubmit(_worker, gid, sim_class, sim_kwargs,\n\u001b[1;32m    468\u001b[0m                         datapoints[idx], batch_size,\n\u001b[1;32m    469\u001b[0m                         show_progress \u001b[38;5;129;01mand\u001b[39;00m i\u001b[38;5;241m==\u001b[39m\u001b[38;5;241m0\u001b[39m)\n\u001b[1;32m    470\u001b[0m             \u001b[38;5;28;01mfor\u001b[39;00m i,(gid,idx) \u001b[38;5;129;01min\u001b[39;00m \u001b[38;5;28menumerate\u001b[39m(\u001b[38;5;28mzip\u001b[39m(gpus, idx_chunks)) \u001b[38;5;28;01mif\u001b[39;00m \u001b[38;5;28mlen\u001b[39m(idx)]\n\u001b[1;32m    471\u001b[0m     \u001b[38;5;28;01mfor\u001b[39;00m idx, fut \u001b[38;5;129;01min\u001b[39;00m \u001b[38;5;28mzip\u001b[39m(idx_chunks, futs):\n\u001b[0;32m--> 472\u001b[0m         mmap[idx] \u001b[38;5;241m=\u001b[39m \u001b[43mfut\u001b[49m\u001b[38;5;241;43m.\u001b[39;49m\u001b[43mresult\u001b[49m\u001b[43m(\u001b[49m\u001b[43m)\u001b[49m\u001b[38;5;241m.\u001b[39mastype(np\u001b[38;5;241m.\u001b[39mfloat32)\n\u001b[1;32m    474\u001b[0m mmap\u001b[38;5;241m.\u001b[39mflush(); \u001b[38;5;28;01mdel\u001b[39;00m mmap\n\u001b[1;32m    476\u001b[0m \u001b[38;5;66;03m# ---------- copy completed file to final_dir (once) ----------------------\u001b[39;00m\n",
      "File \u001b[0;32m~/miniconda3/envs/cudaq/lib/python3.10/concurrent/futures/_base.py:453\u001b[0m, in \u001b[0;36mFuture.result\u001b[0;34m(self, timeout)\u001b[0m\n\u001b[1;32m    450\u001b[0m \u001b[38;5;28;01melif\u001b[39;00m \u001b[38;5;28mself\u001b[39m\u001b[38;5;241m.\u001b[39m_state \u001b[38;5;241m==\u001b[39m FINISHED:\n\u001b[1;32m    451\u001b[0m     \u001b[38;5;28;01mreturn\u001b[39;00m \u001b[38;5;28mself\u001b[39m\u001b[38;5;241m.\u001b[39m__get_result()\n\u001b[0;32m--> 453\u001b[0m \u001b[38;5;28;43mself\u001b[39;49m\u001b[38;5;241;43m.\u001b[39;49m\u001b[43m_condition\u001b[49m\u001b[38;5;241;43m.\u001b[39;49m\u001b[43mwait\u001b[49m\u001b[43m(\u001b[49m\u001b[43mtimeout\u001b[49m\u001b[43m)\u001b[49m\n\u001b[1;32m    455\u001b[0m \u001b[38;5;28;01mif\u001b[39;00m \u001b[38;5;28mself\u001b[39m\u001b[38;5;241m.\u001b[39m_state \u001b[38;5;129;01min\u001b[39;00m [CANCELLED, CANCELLED_AND_NOTIFIED]:\n\u001b[1;32m    456\u001b[0m     \u001b[38;5;28;01mraise\u001b[39;00m CancelledError()\n",
      "File \u001b[0;32m~/miniconda3/envs/cudaq/lib/python3.10/threading.py:320\u001b[0m, in \u001b[0;36mCondition.wait\u001b[0;34m(self, timeout)\u001b[0m\n\u001b[1;32m    318\u001b[0m \u001b[38;5;28;01mtry\u001b[39;00m:    \u001b[38;5;66;03m# restore state no matter what (e.g., KeyboardInterrupt)\u001b[39;00m\n\u001b[1;32m    319\u001b[0m     \u001b[38;5;28;01mif\u001b[39;00m timeout \u001b[38;5;129;01mis\u001b[39;00m \u001b[38;5;28;01mNone\u001b[39;00m:\n\u001b[0;32m--> 320\u001b[0m         \u001b[43mwaiter\u001b[49m\u001b[38;5;241;43m.\u001b[39;49m\u001b[43macquire\u001b[49m\u001b[43m(\u001b[49m\u001b[43m)\u001b[49m\n\u001b[1;32m    321\u001b[0m         gotit \u001b[38;5;241m=\u001b[39m \u001b[38;5;28;01mTrue\u001b[39;00m\n\u001b[1;32m    322\u001b[0m     \u001b[38;5;28;01melse\u001b[39;00m:\n",
      "\u001b[0;31mKeyboardInterrupt\u001b[0m: "
     ]
    }
   ],
   "source": []
  },
  {
   "cell_type": "code",
   "execution_count": 169,
   "metadata": {},
   "outputs": [],
   "source": [
    "torch.manual_seed(0)\n",
    "# reshape to (batch, T, R)\n",
    "R = len(readouts)\n",
    "T = train_embeddings.shape[1] // R\n",
    "res_tr = train_embeddings.reshape(-1, T, R)\n",
    "res_te = test_embeddings.reshape(-1, T, R)\n",
    "\n",
    "# res_tr =selected_train_embeddings.reshape(-1, T, R)\n",
    "# res_te =selected_test_embeddings.reshape(-1, T, R)\n",
    "# to tensors\n",
    "res_tr_t = torch.tensor(res_tr, dtype=torch.float32)\n",
    "res_te_t = torch.tensor(res_te, dtype=torch.float32)\n",
    "ld_qr_tr = DataLoader(\n",
    "    TensorDataset(X_train_t, res_tr_t, y_train_t),\n",
    "    batch_size=32, shuffle=True\n",
    ")\n",
    "ld_qr_te = DataLoader(\n",
    "    TensorDataset(X_test_t,  res_te_t,  y_test_t),\n",
    "    batch_size=32\n",
    ")\n"
   ]
  },
  {
   "cell_type": "code",
   "execution_count": 170,
   "metadata": {},
   "outputs": [],
   "source": [
    "# class ReservoirAttentionLayer(nn.Module):\n",
    "#     def __init__(self, emb_dim, readouts, out_dim=None):\n",
    "#         super().__init__()\n",
    "#         self.value_proj = nn.Linear(emb_dim, out_dim or emb_dim)\n",
    "#         self.res_proj   = nn.Linear(readouts, 1)\n",
    "#         self.head       = nn.Linear(out_dim or emb_dim, 1)\n",
    "#     def forward(self, emb, reservoir):\n",
    "#         scores = self.res_proj(reservoir)     # (batch,T,1)\n",
    "#         attn   = torch.softmax(scores, dim=1)\n",
    "#         V      = self.value_proj(emb).unsqueeze(1).expand(-1, T, -1)\n",
    "#         out    = (attn * V).sum(dim=1)\n",
    "#         return self.head(out).squeeze(-1)\n",
    "\n",
    "# # DataLoaders\n",
    "# loader2_tr = DataLoader(TensorDataset(X_train_t, res_tr_t, y_train_t), batch_size=32, shuffle=True)\n",
    "# loader2_te = DataLoader(TensorDataset(X_test_t,  res_te_t,  y_test_t ), batch_size=32)\n",
    "# # Model, opt\n",
    "# model2 = ReservoirAttentionLayer(emb_dim=X_train.shape[1], readouts=R, out_dim=256).to(device)\n",
    "# opt2   = torch.optim.Adam(model2.parameters(), lr=1e-3)\n",
    "\n",
    "# # train\n",
    "# mses_2 = []\n",
    "# epochs = 1000\n",
    "# lossf = nn.MSELoss()\n",
    "# for epoch in range(epochs):\n",
    "#     model2.train()\n",
    "#     total_loss = 0.0\n",
    "#     for xb, resb, yb in loader2_tr:\n",
    "#         xb, resb, yb = xb.to(device), resb.to(device), yb.to(device)\n",
    "#         loss = lossf(model2(xb, resb), yb)\n",
    "#         opt2.zero_grad(); loss.backward(); opt2.step()\n",
    "#         total_loss += loss.item() * xb.size(0)\n",
    "#     avg_loss = total_loss / len(loader2_tr.dataset)\n",
    "#     mses_2.append(avg_loss)\n",
    "#     if (epoch+1) % 10 == 0:\n",
    "#         print(f\"Epoch {epoch+1:03d}/{epochs} — Train MSE: {avg_loss:.6f}\")\n",
    "    \n",
    "# # eval\n",
    "# model2.eval(); preds2, true2 = [], []\n",
    "# with torch.no_grad():\n",
    "#     for xb, resb, yb in loader2_te:\n",
    "#         p2 = model2(xb.to(device), resb.to(device)).cpu().numpy()\n",
    "#         preds2.append(p2); true2.append(yb.numpy())\n",
    "# preds2 = np.concatenate(preds2)\n",
    "# true2  = np.concatenate(true2)\n",
    "# mse2 = mean_squared_error(true2, preds2)\n",
    "# print(f\"Reservoir-Attention Model Test MSE: {mse2:.8f}\")"
   ]
  },
  {
   "cell_type": "code",
   "execution_count": 171,
   "metadata": {},
   "outputs": [],
   "source": [
    "# #count parameters\n",
    "# print(\"Reservoir-Attention Model params:\", count_parameters(model2))"
   ]
  },
  {
   "cell_type": "code",
   "execution_count": 192,
   "metadata": {},
   "outputs": [],
   "source": [
    "class QRCrossAttnLayer(nn.Module):\n",
    "    \"\"\"\n",
    "    Cross-attention from the reservoir onto *all* tokens.\n",
    "    reservoir : (B,T,R)\n",
    "    tokens    : (B,F+1,E)\n",
    "    x_feat_emb: (B,E)  – mean-pooled scalar embedding\n",
    "    \"\"\"\n",
    "    def __init__(self, emb_dim, res_dim, ff_mult=1, dropout=0.0):\n",
    "        super().__init__()\n",
    "        self.score_proj = nn.Linear(res_dim, 1)      # (T,R) → (T,1)\n",
    "        self.ff = nn.Sequential(\n",
    "            nn.Linear(emb_dim, ff_mult * emb_dim),\n",
    "            nn.GELU(),\n",
    "            nn.Linear(ff_mult * emb_dim, emb_dim),\n",
    "        )\n",
    "        self.norm1 = nn.LayerNorm(emb_dim)\n",
    "        self.norm2 = nn.LayerNorm(emb_dim)\n",
    "\n",
    "    def forward(self, tokens, reservoir, x_feat_emb):\n",
    "        # 1) attention weights from reservoir\n",
    "        attn    = torch.softmax(self.score_proj(reservoir), dim=1)   # (B,T,1)\n",
    "\n",
    "        # 2) value vector = feature embedding (no extra proj)\n",
    "        context = (attn * x_feat_emb.unsqueeze(1)).sum(1)            # (B,E)\n",
    "\n",
    "        # 3) add to *every* token, then FFN\n",
    "        tokens  = self.norm1(tokens + context.unsqueeze(1))\n",
    "        tokens  = self.norm2(tokens + self.ff(tokens))\n",
    "        return tokens\n",
    "\n",
    "\n",
    "\n",
    "\n",
    "class MGTransformerQR(nn.Module):\n",
    "    \"\"\"\n",
    "    Quantum-Transformer with   ① single cross-attn QR layer\n",
    "                               ② MLP width = ff_mult × emb_dim\n",
    "                               ③ no positional tokens (we treat the\n",
    "                                  whole window as one “super-token”)\n",
    "    \"\"\"\n",
    "    def __init__(self, n_features, res_dim, emb_dim,\n",
    "                 ff_mult: int = 4, dropout: float = 0.0):\n",
    "        super().__init__()\n",
    "\n",
    "        # project the whole feature window in one shot\n",
    "        self.feat_proj = nn.Linear(n_features, emb_dim)\n",
    "\n",
    "        # one QR cross-attention layer\n",
    "        self.layer = QRCrossAttnLayer(\n",
    "            emb_dim, res_dim,\n",
    "            ff_mult = ff_mult,\n",
    "            dropout = dropout\n",
    "        )\n",
    "\n",
    "        self.regressor = nn.Linear(emb_dim, 1)\n",
    "\n",
    "    def forward(self, x, reservoir):\n",
    "        \"\"\"\n",
    "        x         : (B, F)         – Mackey-Glass window (F = 4)\n",
    "        reservoir : (B, T, R)\n",
    "        \"\"\"\n",
    "        feat_emb = self.feat_proj(x)        # (B, E)\n",
    "        tokens   = feat_emb.unsqueeze(1)    # fake 1-token “sequence”\n",
    "\n",
    "        tokens   = self.layer(tokens, reservoir, feat_emb)\n",
    "        return self.regressor(tokens.squeeze(1)).squeeze(-1)\n",
    "\n",
    "\n",
    "\n",
    "\n",
    "\n"
   ]
  },
  {
   "cell_type": "code",
   "execution_count": 208,
   "metadata": {},
   "outputs": [
    {
     "name": "stdout",
     "output_type": "stream",
     "text": [
      "Transformer         : 10025 params  (E=28)\n",
      "Quantum-Transformer : 11018 params  (E=36)\n",
      "Random Fourier      :  9757 params  (D=9756)\n"
     ]
    }
   ],
   "source": [
    "# ════════════════════════════════════════════════════════════════════\n",
    "# 1️⃣  parameter counter & emb-dim search\n",
    "# ════════════════════════════════════════════════════════════════════\n",
    "def n_params(model):\n",
    "    return sum(p.numel() for p in model.parameters() if p.requires_grad)\n",
    "\n",
    "def search_dim_multiple(\n",
    "        ctor, *, target,  nhead=4,  low=8, high=512, tol=0.05, **kw):\n",
    "    \"\"\"\n",
    "    Binary-search emb_dim (multiple of nhead) so that\n",
    "    |#params - target| / target  ≤ tol\n",
    "    \"\"\"\n",
    "    low  = math.ceil(low  / nhead) * nhead\n",
    "    high = math.floor(high / nhead) * nhead\n",
    "    best, best_p = None, float(\"inf\")\n",
    "\n",
    "    while low <= high:\n",
    "        mid   = (low + high) // (2*nhead) * nhead  # rounded to multiple\n",
    "        model = ctor(mid, **kw);  p = n_params(model)\n",
    "\n",
    "        if abs(p-target) <= tol*target:   # hit!\n",
    "            return model, p\n",
    "        if p < target: low  = mid + nhead\n",
    "        else:          high = mid - nhead\n",
    "\n",
    "        if abs(p-target) < abs(best_p-target):\n",
    "            best, best_p = model, p\n",
    "    return best, best_p                        # closest found\n",
    "\n",
    "\n",
    "# ════════════════════════════════════════════════════════════════════\n",
    "# 2️⃣  constructors with **identical MLP width 4×E** and depth = 1\n",
    "# ════════════════════════════════════════════════════════════════════\n",
    "def make_transformer(E):\n",
    "    return MGTransformer(\n",
    "        n_features = X_train_t.shape[1],\n",
    "        emb_dim    = E,\n",
    "        nhead      = 4,\n",
    "        nhid       = 4*E,        # << 4× hidden\n",
    "        nlayers    = 1,\n",
    "        dropout    = 0.0).to(device)\n",
    "\n",
    "def make_qt(E):\n",
    "    return MGTransformerQR(\n",
    "        n_features = X_train_t.shape[1],\n",
    "        res_dim    = R,\n",
    "        emb_dim    = E,\n",
    "        ff_mult    = 4,          # << 4× hidden (matches above)\n",
    "        dropout    = 0.0).to(device)\n",
    "\n",
    "def make_rff(D):                 # D = # random features\n",
    "    return RandomFourierLinear(\n",
    "        in_dim  = X_train_t.shape[1],\n",
    "        out_dim = D).to(device)\n",
    "\n",
    "\n",
    "# ════════════════════════════════════════════════════════════════════\n",
    "# 3️⃣  pick dimensions so every model ≈ TARGET params\n",
    "# ════════════════════════════════════════════════════════════════════\n",
    "TARGET = 10_000        # you can change this in one place\n",
    "\n",
    "model_tf , p_tf  = search_dim_multiple(make_transformer,\n",
    "                                       target=TARGET, nhead=4)\n",
    "model_qt , p_qt  = search_dim_multiple(make_qt,\n",
    "                                       target=TARGET, nhead=4)\n",
    "model_rff, p_rff = search_dim_multiple(make_rff,\n",
    "                                       target=TARGET, nhead=1,\n",
    "                                       low=32, high=12_000)\n",
    "\n",
    "print(f\"Transformer         : {p_tf :>5} params  (E={model_tf.feat_proj.out_features})\")\n",
    "print(f\"Quantum-Transformer : {p_qt :>5} params  (E={model_qt.feat_proj.out_features})\")\n",
    "print(f\"Random Fourier      : {p_rff:>5} params  (D={model_rff.out_dim})\")"
   ]
  },
  {
   "cell_type": "code",
   "execution_count": 209,
   "metadata": {},
   "outputs": [
    {
     "data": {
      "application/vnd.jupyter.widget-view+json": {
       "model_id": "5701162e60db4eca833e5b5d66b03c66",
       "version_major": 2,
       "version_minor": 0
      },
      "text/plain": [
       "Transformer: loss=∞:   0%|          | 0/500 [00:00<?, ?it/s]"
      ]
     },
     "metadata": {},
     "output_type": "display_data"
    },
    {
     "data": {
      "application/vnd.jupyter.widget-view+json": {
       "model_id": "7376e7fd84bb4ae4af5d3fb005d35200",
       "version_major": 2,
       "version_minor": 0
      },
      "text/plain": [
       "RFF: loss=∞:   0%|          | 0/500 [00:00<?, ?it/s]"
      ]
     },
     "metadata": {},
     "output_type": "display_data"
    },
    {
     "data": {
      "application/vnd.jupyter.widget-view+json": {
       "model_id": "2048bee536b94059ae122c40842a4a70",
       "version_major": 2,
       "version_minor": 0
      },
      "text/plain": [
       "QT: loss=∞:   0%|          | 0/500 [00:00<?, ?it/s]"
      ]
     },
     "metadata": {},
     "output_type": "display_data"
    }
   ],
   "source": [
    "loss_tf  = train(model_tf , loader_tr, desc=\"Transformer\",early_stop=False)\n",
    "loss_rff = train(model_rff, loader_tr, desc=\"RFF\", early_stop=False)\n",
    "loss_qt  = train(model_qt , ld_qr_tr , desc=\"QT\", early_stop=False)\n"
   ]
  },
  {
   "cell_type": "code",
   "execution_count": 210,
   "metadata": {},
   "outputs": [
    {
     "data": {
      "image/png": "[encoded data removed]",
      "text/plain": [
       "<Figure size 700x400 with 1 Axes>"
      ]
     },
     "metadata": {},
     "output_type": "display_data"
    }
   ],
   "source": [
    "plt.figure(figsize=(7,4))\n",
    "plt.plot(loss_tf , label=\"Transformer\")\n",
    "plt.plot(loss_rff, label=\"RFF\")\n",
    "plt.plot(loss_qt , label=\"Quantum-Transformer\")\n",
    "plt.yscale(\"log\")\n",
    "plt.xlabel(\"Epoch\"); plt.ylabel(\"Train MSE\"); plt.title(\"Learning curves\")\n",
    "plt.legend(); plt.grid(alpha=.3)\n",
    "plt.show()\n"
   ]
  },
  {
   "cell_type": "code",
   "execution_count": 211,
   "metadata": {},
   "outputs": [
    {
     "data": {
      "image/png": "[encoded data removed]",
      "text/plain": [
       "<Figure size 1000x400 with 1 Axes>"
      ]
     },
     "metadata": {},
     "output_type": "display_data"
    }
   ],
   "source": [
    "pred_tf , true_tf  = predict(model_tf , loader_te)\n",
    "pred_rff, true_rff = predict(model_rff, loader_te)     # same targets\n",
    "pred_qt , _        = predict(model_qt , ld_qr_te)\n",
    "\n",
    "plt.figure(figsize=(10,4))\n",
    "plt.plot(true_tf[:200] , 'k-',  lw=2, label=\"True\")        # first 200 points\n",
    "plt.plot(pred_tf[:200] , 'C1--', lw=1, label=\"Transformer\")\n",
    "plt.plot(pred_rff[:200], 'C2--', lw=1, label=\"RFF\")\n",
    "plt.plot(pred_qt[:200] , 'C3--', lw=1, label=\"Quantum-Transformer\")\n",
    "plt.xlabel(\"Sample idx\"); plt.ylabel(\"Value\")\n",
    "plt.title(\"True vs. predicted (first 200 test samples)\")\n",
    "plt.legend(); plt.grid(alpha=.3)\n",
    "plt.show()\n"
   ]
  },
  {
   "cell_type": "code",
   "execution_count": 212,
   "metadata": {},
   "outputs": [
    {
     "name": "stdout",
     "output_type": "stream",
     "text": [
      "\n",
      "=====  Test MSE =====\n",
      "Transformer        : 0.00022716\n",
      "RFF                : 0.00187666\n",
      "Quantum-Transformer: 0.00008690\n"
     ]
    }
   ],
   "source": [
    "#1000\n",
    "print(\"\\n=====  Test MSE =====\")\n",
    "print(f\"Transformer        : {mean_squared_error(true_tf, pred_tf):.8f}\")\n",
    "print(f\"RFF                : {mean_squared_error(true_rff, pred_rff):.8f}\")\n",
    "print(f\"Quantum-Transformer: {mean_squared_error(true_tf, pred_qt):.8f}\")"
   ]
  },
  {
   "cell_type": "code",
   "execution_count": null,
   "metadata": {},
   "outputs": [],
   "source": []
  }
 ],
 "metadata": {
  "kernelspec": {
   "display_name": "Python (cudaq)",
   "language": "python",
   "name": "cudaq"
  },
  "language_info": {
   "codemirror_mode": {
    "name": "ipython",
    "version": 3
   },
   "file_extension": ".py",
   "mimetype": "text/x-python",
   "name": "python",
   "nbconvert_exporter": "python",
   "pygments_lexer": "ipython3",
   "version": "3.10.16"
  }
 },
 "nbformat": 4,
 "nbformat_minor": 2
}
